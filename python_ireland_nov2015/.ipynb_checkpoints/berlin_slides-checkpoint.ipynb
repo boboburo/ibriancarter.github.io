{
 "cells": [
  {
   "cell_type": "markdown",
   "metadata": {
    "slideshow": {
     "slide_type": "slide"
    }
   },
   "source": [
    "# Brian Carter \n",
    "\n",
    "### Data Scientist @ IBM Dublin, Ireland \n",
    "<br>\n",
    "\n",
    "<table align='left'>\n",
    "  <tr>\n",
    "      <td>\n",
    "        <a href=\"mailto:briancar@ie.ibm.com\">\n",
    "        <img border=\"1\" src=\"contact_images/ibm.jpg\" width=\"100\" height=\"100\" vertical-align=\"middle\">\n",
    "        </a>\n",
    "    </td>\n",
    "   <td>briancar@ie.ibm.com</td>\n",
    "   </tr>\n",
    "   <td>\n",
    "        <a href=\"mailto:brianthomascarter@gmail.com\">\n",
    "        <img border=\"0\" alt=\"Something else\" src=\"contact_images/gmail.jpg\" width=\"100\" height=\"100\" vertical-align=\"middle\">\n",
    "        </a>\n",
    "    </td>\n",
    "    <td>brianthomascarter@gmail.com</td>\n",
    "  </tr>\n",
    "  <tr>\n",
    "    <td>\n",
    "        <a href=\"https://github.com/iBrianCarter\">\n",
    "        <img border=\"0\" alt=\"Something else\" src=\"contact_images/github.jpg\" width=\"100\" height=\"100\" vertical-align=\"middle\">\n",
    "        </a>\n",
    "    </td>\n",
    "    <td>https://github.com/iBrianCarter</td>\n",
    "   </tr>\n",
    "  <tr>\n",
    "    <td>\n",
    "        <a href=\"https://twitter.com/ibriancarter\">\n",
    "        <img border=\"0\" alt=\"Something else\" src=\"contact_images/twitter.jpg\" width=\"80\" height=\"80\" vertical-align=\"middle\">\n",
    "        </a>\n",
    "    </td>\n",
    "    <td>https://twitter.com/ibriancarter</td>\n",
    "   </tr>\n",
    "   <tr>\n",
    "    <td>\n",
    "        <a href=\"https://ie.linkedin.com/in/brianthomascarter\">\n",
    "        <img border=\"0\" alt=\"Something else\" src=\"contact_images/linkedin.jpg\" width=\"80\" height=\"80\" vertical-align=\"middle\">\n",
    "        </a>\n",
    "    </td>\n",
    "    <td>https://ie.linkedin.com/in/brianthomascarter</td>\n",
    "   </tr>\n",
    "</table><br clear=\"left\"/>"
   ]
  },
  {
   "cell_type": "markdown",
   "metadata": {
    "slideshow": {
     "slide_type": "slide"
    }
   },
   "source": [
    "- Previously I worked for the Data Analysis Unit of An Garda Síochána (Irish Police Force)<br><br>\n",
    "\n",
    "- This presentation is an offshot of a project that I worked on there."
   ]
  },
  {
   "cell_type": "markdown",
   "metadata": {
    "slideshow": {
     "slide_type": "fragment"
    }
   },
   "source": [
    "\n",
    "#pillreports.net <br><br>\n",
    "\n",
    "- online database of reviews of <font color=\"red\"> Ecstasy</font> pills <br><br>\n",
    "\n",
    "- illicit drugs are experience goods\n",
    "\n",
    "- contents are not known until the time of consumption<br><br>\n",
    "\n",
    "- review sites may be viewed as bridge between that knowledge gap\n",
    "\n",
    "- flag instances where an <font color=\"red\">identifiable</font> pill is producing <b>undesirable</b> effects\n"
   ]
  },
  {
   "cell_type": "code",
   "execution_count": 200,
   "metadata": {
    "collapsed": false,
    "slideshow": {
     "slide_type": "skip"
    }
   },
   "outputs": [],
   "source": [
    "from IPython.display import IFrame\n",
    "PillReports=IFrame('contact_images/pill_reports_34765.htm', width=1000, height=600)"
   ]
  },
  {
   "cell_type": "code",
   "execution_count": 201,
   "metadata": {
    "collapsed": false,
    "scrolled": true,
    "slideshow": {
     "slide_type": "slide"
    }
   },
   "outputs": [
    {
     "data": {
      "text/html": [
       "\n",
       "        <iframe\n",
       "            width=\"1000\"\n",
       "            height=\"600\"\n",
       "            src=\"contact_images/pill_reports_34765.htm\"\n",
       "            frameborder=\"0\"\n",
       "            allowfullscreen\n",
       "        ></iframe>\n",
       "        "
      ],
      "text/plain": [
       "<IPython.lib.display.IFrame at 0x12f23e80>"
      ]
     },
     "execution_count": 201,
     "metadata": {},
     "output_type": "execute_result"
    }
   ],
   "source": [
    "PillReports"
   ]
  },
  {
   "cell_type": "markdown",
   "metadata": {
    "slideshow": {
     "slide_type": "slide"
    }
   },
   "source": [
    "#outline \n",
    "\n",
    "1. Scraping the data (BeautifulSoup, dictionary, MongoDB)<br><br>\n",
    "\n",
    "2. Cleaning (langdetect) <br><br>\n",
    "\n",
    "3. Data Exploration (matplotlib vs. seaborn) <br><br>\n",
    "\n",
    "4. Classification & PCA & Clustering<br><br>"
   ]
  },
  {
   "cell_type": "markdown",
   "metadata": {
    "slideshow": {
     "slide_type": "slide"
    }
   },
   "source": [
    "# 1. Scraping the data\n",
    "\n",
    "- Use <b>urllib2</b> to connect to a webpage\n",
    "- parse webpage using <b>BeautifulSoup</b>\n",
    "- *Have determined that there are 3 HTML tables per valid returned webpage*"
   ]
  },
  {
   "cell_type": "code",
   "execution_count": 2,
   "metadata": {
    "collapsed": true,
    "slideshow": {
     "slide_type": "fragment"
    }
   },
   "outputs": [],
   "source": [
    "from bs4 import BeautifulSoup\n",
    "import urllib2\n",
    "\n",
    "def web_scrape(web_index):\n",
    "    base_path=\"http://www.pillreports.net/index.php?page=display_pill&id=\"\n",
    "    web_path =base_path+str(web_index)\n",
    "    \n",
    "    #Open and read web page. \n",
    "    #Parse returned webpage with BeautifulSoup and extract all the tables in it. \n",
    "    try:\n",
    "        web_page = urllib2.urlopen(web_path).read().decode('utf-8')\n",
    "        soup=BeautifulSoup(web_page)\n",
    "        number_of_tables = len(soup.findChildren('table'))\n",
    "     \n",
    "    #Based on research if there are not 3 tables exit and return false. Indicates that the webpage is not published report.\n",
    "    #Report is in the first table. Comments are in the third table.\n",
    "        if number_of_tables!=3:\n",
    "            return False\n",
    "        else:\n",
    "            return soup\n",
    "\n",
    "    #If encoding cannot be determined exit. \n",
    "    except (UnicodeDecodeError):\n",
    "        print \"Encoding error encountered. Page \" +str(web_index)+ \" skipped.\"\n",
    "        return False\n"
   ]
  },
  {
   "cell_type": "markdown",
   "metadata": {
    "slideshow": {
     "slide_type": "subslide"
    }
   },
   "source": [
    "- Use <b>pymongo</b> to connect to running *MongoDB*\n",
    "- Create a Mongo database using todays date\n",
    "- Create two <b>collections</b> *(similar to a relational database table)* for <b>reports</b> and associated <b>comments</b>\n"
   ]
  },
  {
   "cell_type": "code",
   "execution_count": 62,
   "metadata": {
    "collapsed": true,
    "slideshow": {
     "slide_type": "fragment"
    }
   },
   "outputs": [],
   "source": [
    "import time\n",
    "import pymongo\n",
    "\n",
    "def mongo_database_setup():\n",
    "    database_name={}\n",
    "\n",
    "    # Try to connect to MongoDB,  exit if not successful.\n",
    "    try:\n",
    "        conn=pymongo.MongoClient()\n",
    "        print \"Connected successfully!!!\"\n",
    "        \n",
    "    except pymongo.errors.ConnectionFailure, e:\n",
    "       print \"Could not connect to MongoDB: %s\" % e \n",
    "\n",
    "\n",
    "    #Use todays date for the database name:\n",
    "    name='pillreports_'+time.strftime(\"%d%b%y\")\n",
    "\n",
    "    if name in conn.database_names():\n",
    "        conn.drop_database(name) #Drop the database if it exists\n",
    "        db = conn[name] #Create the database\n",
    "        \n",
    "        #Create two collections in the database\n",
    "        reports = db.reports\n",
    "        comments=db.comments\n",
    "   \n",
    "    else:\n",
    "        db = conn[name] #Create the database\n",
    "        #Create two collections in the database\n",
    "        reports = db.reports\n",
    "        comments=db.comments\n",
    "   \n",
    "    #return the connection, database name, collections names.     \n",
    "    return conn,db,reports,comments"
   ]
  },
  {
   "cell_type": "markdown",
   "metadata": {
    "slideshow": {
     "slide_type": "subslide"
    }
   },
   "source": [
    "- Create a Python <b>dictionary</b> with content of 2nd table in webpage\n",
    "- 1st column are the *keys* , 2nd column are the *values*\n",
    "- complete some basic cleaning *(remove white space, extra HTML tags)*\n",
    "- dictionary inserted as a document into MongoDB collection"
   ]
  },
  {
   "cell_type": "code",
   "execution_count": 5,
   "metadata": {
    "collapsed": true,
    "slideshow": {
     "slide_type": "fragment"
    }
   },
   "outputs": [],
   "source": [
    "import re\n",
    "\n",
    "def parse_tables(soup,web_id,reports,comments):\n",
    "    \n",
    "    #Dictionary to hold values, ID value to the index.\n",
    "    pill_report_dict={}\n",
    "    pill_report_dict['ID: ']=unicode(web_id)\n",
    "    \n",
    "    #Select the 2nd table and loop through each row of the table\n",
    "    #extracting first column and second column using the find_next() method of BeautifulSoup\n",
    "    for tr_tag in soup.find_all('table')[0]('tr'):\n",
    "        col1=tr_tag.find_next()\n",
    "        col2=col1.find_next()\n",
    "    \n",
    "        #If the type of is td, remove all <br> tags. \n",
    "        if col2.name=='td':   \n",
    "            \n",
    "            #\\s is white space. Remove newlines etc. replace with one space.\n",
    "            col2.text_tidy=re.sub(r'\\s\\s+', ' ', col2.text) \n",
    "            \n",
    "            #Remove any <xx> replace with ''. This is will remove any HTML tags remaining.\n",
    "            col2.text_tidy=re.sub(r'<.*?>','', col2.text_tidy) \n",
    "            \n",
    "            #Add the row to the dictionary. col1 is the column1 header, col2 is the content.\n",
    "            pill_report_dict[col1.text] = unicode(col2.text_tidy)\n",
    " \n",
    "    #Insert the dictionary into the Mongo Database.\n",
    "    reports.insert(pill_report_dict)"
   ]
  },
  {
   "cell_type": "markdown",
   "metadata": {
    "slideshow": {
     "slide_type": "fragment"
    }
   },
   "source": [
    "The advantages of this are that the number of fields per table does not need to be known in advance. Over 5000 pages 8/25 fields appear always/mandatory. \n",
    "\n",
    "MongoDB & Pymongo very fast. "
   ]
  },
  {
   "cell_type": "markdown",
   "metadata": {
    "slideshow": {
     "slide_type": "slide"
    }
   },
   "source": [
    "# 2. Cleaning the data\n",
    "\n",
    "Usual stuff - rename columns, cleanup date formats, geo coding, create variables (number of comments per report), tidy integers with textual units (mm), categorise some multinominals, split fields into new columns (Report Quality Rating  - 3.35 stars, 3 votes) etc.\n"
   ]
  },
  {
   "cell_type": "markdown",
   "metadata": {
    "slideshow": {
     "slide_type": "fragment"
    }
   },
   "source": [
    "- Connect to MongoDB and read collection into a pandas DataFrame"
   ]
  },
  {
   "cell_type": "code",
   "execution_count": null,
   "metadata": {
    "collapsed": true,
    "slideshow": {
     "slide_type": "fragment"
    }
   },
   "outputs": [],
   "source": [
    "import pandas as pd  #For python data frame\n",
    "import pymongo #For mongoDB\n",
    "\n",
    "#Create connection to the MongoDB. Note the MongoDB must be running.\n",
    "conn=pymongo.MongoClient('localhost',27017)\n",
    "db = conn.pillreports_17Nov14     #This database needs to be changed accoridng to date of scrape\n",
    "print db.reports.count()  #Print out the number of records in the database, visual check on connection.\n",
    "\n",
    "df = pd.DataFrame(list(db.reports.find())) #Copy the reports to the dataframe and close the connection\n",
    "conn.close()"
   ]
  },
  {
   "cell_type": "markdown",
   "metadata": {
    "slideshow": {
     "slide_type": "subslide"
    }
   },
   "source": [
    "- <b>langdetect</b> is a Python port of a Google created Java library for language detection\n",
    "- developed with labelled Wikipedia articles\n",
    "- Naive Bayes ruleset, can detect 49 languages with 99% accuracy, minimum 10-12 words depending on the language"
   ]
  },
  {
   "cell_type": "code",
   "execution_count": null,
   "metadata": {
    "collapsed": true,
    "slideshow": {
     "slide_type": "fragment"
    }
   },
   "outputs": [],
   "source": [
    "from langdetect import detect,detect_langs\n",
    "\n",
    "#Calculate the language of the User Report if greater than 100 characters.\n",
    "df['Language:'] = df['User Report:'].apply(lambda d: detect(d) if not pd.isnull(d) and len(d) > 100 else \"Unknown\")\n",
    "\n",
    "#detect langs returns list all possible languages and associated probabilities order high to low\n",
    "#Example [en:0.75,fr:0.25] #Select the first item in the list. \n",
    "df['Language Percentage:'] = df['User Report:'].apply(lambda d: detect_langs(d)[0] if not pd.isnull(d) and len(d) > 100 else \"Unknown\")\n",
    "\n",
    "#split the list based on \":\". \n",
    "temp_percent = df['Language Percentage:'].apply(lambda x: pd.Series(str(x).split(':')))\n",
    "df['Language Percentage:']=temp_percent[1]\n",
    "\n",
    "#Values are strings, convert to floats. \n",
    "df['Language Percentage:'] = df['Language Percentage:'].apply(lambda d: float(d)  if isinstance(d,basestring) else d )"
   ]
  },
  {
   "cell_type": "code",
   "execution_count": 71,
   "metadata": {
    "collapsed": false,
    "slideshow": {
     "slide_type": "skip"
    }
   },
   "outputs": [],
   "source": [
    "import pandas as pd\n",
    "df=pd.read_csv(\"C:\\Users\\IBM_ADMIN\\Desktop\\PyData_Berlin_May15\\Processes\\Data\\prReports.csv\",encoding='utf-8') \n",
    "\n",
    "pivot_CountryLanguage = df.pivot_table(index='Country:', columns='Language:',values=\"ID:\",aggfunc=len,dropna=True,margins=True)\n",
    "pivot_CountryLanguage=pivot_CountryLanguage.sort(columns='All',ascending=False)\n",
    "colorder=['en','nl','tr','pl','ru','af','no','Unknown','All']\n",
    "pivot_CountryLanguage=pivot_CountryLanguage[colorder]\n",
    "pivot_CountryLanguage=pivot_CountryLanguage.fillna(0)\n",
    "pivot_head=pivot_CountryLanguage.head(7)"
   ]
  },
  {
   "cell_type": "code",
   "execution_count": 72,
   "metadata": {
    "collapsed": false,
    "slideshow": {
     "slide_type": "subslide"
    }
   },
   "outputs": [
    {
     "data": {
      "text/html": [
       "<div style=\"max-height:1000px;max-width:1500px;overflow:auto;\">\n",
       "<table border=\"1\" class=\"dataframe\">\n",
       "  <thead>\n",
       "    <tr style=\"text-align: right;\">\n",
       "      <th>Language:</th>\n",
       "      <th>en</th>\n",
       "      <th>nl</th>\n",
       "      <th>tr</th>\n",
       "      <th>pl</th>\n",
       "      <th>ru</th>\n",
       "      <th>af</th>\n",
       "      <th>no</th>\n",
       "      <th>Unknown</th>\n",
       "      <th>All</th>\n",
       "    </tr>\n",
       "    <tr>\n",
       "      <th>Country:</th>\n",
       "      <th></th>\n",
       "      <th></th>\n",
       "      <th></th>\n",
       "      <th></th>\n",
       "      <th></th>\n",
       "      <th></th>\n",
       "      <th></th>\n",
       "      <th></th>\n",
       "      <th></th>\n",
       "    </tr>\n",
       "  </thead>\n",
       "  <tbody>\n",
       "    <tr>\n",
       "      <th>All</th>\n",
       "      <td> 2962</td>\n",
       "      <td> 32</td>\n",
       "      <td> 20</td>\n",
       "      <td> 2</td>\n",
       "      <td> 2</td>\n",
       "      <td> 1</td>\n",
       "      <td> 1</td>\n",
       "      <td> 1981</td>\n",
       "      <td> 5001</td>\n",
       "    </tr>\n",
       "    <tr>\n",
       "      <th>USA</th>\n",
       "      <td> 1065</td>\n",
       "      <td>  0</td>\n",
       "      <td>  0</td>\n",
       "      <td> 0</td>\n",
       "      <td> 0</td>\n",
       "      <td> 0</td>\n",
       "      <td> 0</td>\n",
       "      <td>  986</td>\n",
       "      <td> 2051</td>\n",
       "    </tr>\n",
       "    <tr>\n",
       "      <th>Australia</th>\n",
       "      <td>  591</td>\n",
       "      <td>  0</td>\n",
       "      <td>  0</td>\n",
       "      <td> 0</td>\n",
       "      <td> 0</td>\n",
       "      <td> 0</td>\n",
       "      <td> 0</td>\n",
       "      <td>  378</td>\n",
       "      <td>  969</td>\n",
       "    </tr>\n",
       "    <tr>\n",
       "      <th>Netherlands</th>\n",
       "      <td>  208</td>\n",
       "      <td> 29</td>\n",
       "      <td>  0</td>\n",
       "      <td> 0</td>\n",
       "      <td> 0</td>\n",
       "      <td> 0</td>\n",
       "      <td> 0</td>\n",
       "      <td>  127</td>\n",
       "      <td>  364</td>\n",
       "    </tr>\n",
       "    <tr>\n",
       "      <th>England</th>\n",
       "      <td>  223</td>\n",
       "      <td>  0</td>\n",
       "      <td>  0</td>\n",
       "      <td> 0</td>\n",
       "      <td> 0</td>\n",
       "      <td> 0</td>\n",
       "      <td> 0</td>\n",
       "      <td>  101</td>\n",
       "      <td>  324</td>\n",
       "    </tr>\n",
       "    <tr>\n",
       "      <th>Unknown</th>\n",
       "      <td>  160</td>\n",
       "      <td>  0</td>\n",
       "      <td>  1</td>\n",
       "      <td> 0</td>\n",
       "      <td> 0</td>\n",
       "      <td> 1</td>\n",
       "      <td> 1</td>\n",
       "      <td>  118</td>\n",
       "      <td>  281</td>\n",
       "    </tr>\n",
       "    <tr>\n",
       "      <th>Ireland</th>\n",
       "      <td>  122</td>\n",
       "      <td>  0</td>\n",
       "      <td>  0</td>\n",
       "      <td> 0</td>\n",
       "      <td> 0</td>\n",
       "      <td> 0</td>\n",
       "      <td> 0</td>\n",
       "      <td>   95</td>\n",
       "      <td>  217</td>\n",
       "    </tr>\n",
       "  </tbody>\n",
       "</table>\n",
       "</div>"
      ],
      "text/plain": [
       "Language:      en  nl  tr  pl  ru  af  no  Unknown   All\n",
       "Country:                                                \n",
       "All          2962  32  20   2   2   1   1     1981  5001\n",
       "USA          1065   0   0   0   0   0   0      986  2051\n",
       "Australia     591   0   0   0   0   0   0      378   969\n",
       "Netherlands   208  29   0   0   0   0   0      127   364\n",
       "England       223   0   0   0   0   0   0      101   324\n",
       "Unknown       160   0   1   0   0   1   1      118   281\n",
       "Ireland       122   0   0   0   0   0   0       95   217"
      ]
     },
     "execution_count": 72,
     "metadata": {},
     "output_type": "execute_result"
    }
   ],
   "source": [
    "pivot_head"
   ]
  },
  {
   "cell_type": "markdown",
   "metadata": {
    "slideshow": {
     "slide_type": "slide"
    }
   },
   "source": [
    "# 3. Visualisation Data Exploration\n",
    "\n",
    "- Use <b>Seaborn</b> create trend lines\n",
    "- Have to do the rollup/transofmraiton of the data"
   ]
  },
  {
   "cell_type": "code",
   "execution_count": 104,
   "metadata": {
    "collapsed": false,
    "slideshow": {
     "slide_type": "skip"
    }
   },
   "outputs": [],
   "source": [
    "#Set up matplot so that plots are displayed in the browser. \n",
    "%matplotlib inline \n",
    "\n",
    "import pandas as pd\n",
    "import matplotlib.patches as mpatches\n",
    "import numpy as np\n",
    "import matplotlib.pyplot as plt\n",
    "import seaborn as sns\n",
    "sns.set_style(\"dark\")\n",
    "\n",
    "df=pd.read_csv(\"C:\\Users\\IBM_ADMIN\\Desktop\\PyData_Berlin_May15\\Processes\\Data\\prReports.csv\",encoding='utf-8') \n",
    "\n",
    "\n",
    "# Recode columns with date values to pandas datetime series  \n",
    "df['Date Submitted:']=pd.to_datetime(df['Date Submitted:'])\n",
    "df['Last Updated:']=pd.to_datetime(df['Last Updated:'])\n",
    "df['Member Since:']=pd.to_datetime(df['Member Since:'])\n",
    "\n",
    "#Create a new data frame and extract the year and week that a report is submitted. \n",
    "dfRecords=pd.DataFrame()\n",
    "dfRecords['ID']=df['ID:']\n",
    "\n",
    "#Extract the year and week of report submission\n",
    "dfRecords['Year']=(df['Date Submitted:']).map(lambda x: x.year)\n",
    "dfRecords['Week']=(df['Date Submitted:']).map(lambda x: x.week)"
   ]
  },
  {
   "cell_type": "code",
   "execution_count": 105,
   "metadata": {
    "collapsed": false,
    "slideshow": {
     "slide_type": "fragment"
    }
   },
   "outputs": [
    {
     "data": {
      "text/plain": [
       "<matplotlib.text.Text at 0x17296be0>"
      ]
     },
     "execution_count": 105,
     "metadata": {},
     "output_type": "execute_result"
    },
    {
     "data": {
      "image/png": "[encoded data removed]",
      "text/plain": [
       "<matplotlib.figure.Figure at 0xf73d438>"
      ]
     },
     "metadata": {},
     "output_type": "display_data"
    }
   ],
   "source": [
    "#Swap the order\n",
    "dfYearWeek = dfRecords.pivot_table(index='Year', columns='Week',values=\"ID\",aggfunc=len)\n",
    "dfYearWeek = dfYearWeek.stack()\n",
    "\n",
    "dfYearWeek=dfYearWeek.reset_index()\n",
    "dfYearWeek.rename(columns={0:'Count'}, inplace=True)\n",
    "dfYearWeek['Sequence']=(dfYearWeek.index).values+1\n",
    "\n",
    "#Use seaborn to plot a scatter plot of count of records by week with a trend line.\n",
    "sns.lmplot('Sequence','Count',dfYearWeek,size=4,aspect=3.25, legend =True)\n",
    "plt.xlim(0,170)\n",
    "plt.title(\"Trend Line of Weekly Count of Reports.\")\n",
    "plt.xlabel(\"Sequential Week: Aug 2011 - Nov 2014\")\n",
    "plt.ylabel(\"Count of Reports\")\n"
   ]
  },
  {
   "cell_type": "markdown",
   "metadata": {
    "slideshow": {
     "slide_type": "subslide"
    }
   },
   "source": [
    "- Creating <b>stacked area chart</b> use <b>Matplotlib</b>\n",
    "- Calculate percentages and plot"
   ]
  },
  {
   "cell_type": "code",
   "execution_count": 112,
   "metadata": {
    "collapsed": false,
    "slideshow": {
     "slide_type": "skip"
    }
   },
   "outputs": [
    {
     "ename": "ValueError",
     "evalue": "labels ['Week'] not contained in axis",
     "output_type": "error",
     "traceback": [
      "\u001b[1;31m---------------------------------------------------------------------------\u001b[0m",
      "\u001b[1;31mValueError\u001b[0m                                Traceback (most recent call last)",
      "\u001b[1;32m<ipython-input-112-771eaf6cc1cc>\u001b[0m in \u001b[0;36m<module>\u001b[1;34m()\u001b[0m\n\u001b[1;32m----> 1\u001b[1;33m \u001b[0mdfRecords\u001b[0m\u001b[1;33m.\u001b[0m\u001b[0mdrop\u001b[0m\u001b[1;33m(\u001b[0m\u001b[1;34m'Week'\u001b[0m\u001b[1;33m,\u001b[0m \u001b[0maxis\u001b[0m\u001b[1;33m=\u001b[0m\u001b[1;36m1\u001b[0m\u001b[1;33m,\u001b[0m \u001b[0minplace\u001b[0m\u001b[1;33m=\u001b[0m\u001b[0mTrue\u001b[0m\u001b[1;33m)\u001b[0m\u001b[1;33m\u001b[0m\u001b[0m\n\u001b[0m\u001b[0;32m      2\u001b[0m \u001b[0mdfRecords\u001b[0m\u001b[1;33m[\u001b[0m\u001b[1;34m'Month'\u001b[0m\u001b[1;33m]\u001b[0m\u001b[1;33m=\u001b[0m\u001b[1;33m(\u001b[0m\u001b[0mdf\u001b[0m\u001b[1;33m[\u001b[0m\u001b[1;34m'Date Submitted:'\u001b[0m\u001b[1;33m]\u001b[0m\u001b[1;33m)\u001b[0m\u001b[1;33m.\u001b[0m\u001b[0mmap\u001b[0m\u001b[1;33m(\u001b[0m\u001b[1;32mlambda\u001b[0m \u001b[0mx\u001b[0m\u001b[1;33m:\u001b[0m \u001b[0mx\u001b[0m\u001b[1;33m.\u001b[0m\u001b[0mmonth\u001b[0m\u001b[1;33m)\u001b[0m\u001b[1;33m\u001b[0m\u001b[0m\n\u001b[0;32m      3\u001b[0m \u001b[0mdfRecords\u001b[0m\u001b[1;33m[\u001b[0m\u001b[1;34m'Warning'\u001b[0m\u001b[1;33m]\u001b[0m\u001b[1;33m=\u001b[0m\u001b[0mdf\u001b[0m\u001b[1;33m[\u001b[0m\u001b[1;34m'Warning:'\u001b[0m\u001b[1;33m]\u001b[0m\u001b[1;33m\u001b[0m\u001b[0m\n",
      "\u001b[1;32mC:\\Users\\IBM_ADMIN\\Anaconda\\lib\\site-packages\\pandas\\core\\generic.pyc\u001b[0m in \u001b[0;36mdrop\u001b[1;34m(self, labels, axis, level, inplace, **kwargs)\u001b[0m\n\u001b[0;32m   1462\u001b[0m                 \u001b[0mnew_axis\u001b[0m \u001b[1;33m=\u001b[0m \u001b[0maxis\u001b[0m\u001b[1;33m.\u001b[0m\u001b[0mdrop\u001b[0m\u001b[1;33m(\u001b[0m\u001b[0mlabels\u001b[0m\u001b[1;33m,\u001b[0m \u001b[0mlevel\u001b[0m\u001b[1;33m=\u001b[0m\u001b[0mlevel\u001b[0m\u001b[1;33m)\u001b[0m\u001b[1;33m\u001b[0m\u001b[0m\n\u001b[0;32m   1463\u001b[0m             \u001b[1;32melse\u001b[0m\u001b[1;33m:\u001b[0m\u001b[1;33m\u001b[0m\u001b[0m\n\u001b[1;32m-> 1464\u001b[1;33m                 \u001b[0mnew_axis\u001b[0m \u001b[1;33m=\u001b[0m \u001b[0maxis\u001b[0m\u001b[1;33m.\u001b[0m\u001b[0mdrop\u001b[0m\u001b[1;33m(\u001b[0m\u001b[0mlabels\u001b[0m\u001b[1;33m)\u001b[0m\u001b[1;33m\u001b[0m\u001b[0m\n\u001b[0m\u001b[0;32m   1465\u001b[0m             \u001b[0mdropped\u001b[0m \u001b[1;33m=\u001b[0m \u001b[0mself\u001b[0m\u001b[1;33m.\u001b[0m\u001b[0mreindex\u001b[0m\u001b[1;33m(\u001b[0m\u001b[1;33m**\u001b[0m\u001b[1;33m{\u001b[0m\u001b[0maxis_name\u001b[0m\u001b[1;33m:\u001b[0m \u001b[0mnew_axis\u001b[0m\u001b[1;33m}\u001b[0m\u001b[1;33m)\u001b[0m\u001b[1;33m\u001b[0m\u001b[0m\n\u001b[0;32m   1466\u001b[0m             \u001b[1;32mtry\u001b[0m\u001b[1;33m:\u001b[0m\u001b[1;33m\u001b[0m\u001b[0m\n",
      "\u001b[1;32mC:\\Users\\IBM_ADMIN\\Anaconda\\lib\\site-packages\\pandas\\core\\index.pyc\u001b[0m in \u001b[0;36mdrop\u001b[1;34m(self, labels)\u001b[0m\n\u001b[0;32m   1829\u001b[0m         \u001b[0mmask\u001b[0m \u001b[1;33m=\u001b[0m \u001b[0mindexer\u001b[0m \u001b[1;33m==\u001b[0m \u001b[1;33m-\u001b[0m\u001b[1;36m1\u001b[0m\u001b[1;33m\u001b[0m\u001b[0m\n\u001b[0;32m   1830\u001b[0m         \u001b[1;32mif\u001b[0m \u001b[0mmask\u001b[0m\u001b[1;33m.\u001b[0m\u001b[0many\u001b[0m\u001b[1;33m(\u001b[0m\u001b[1;33m)\u001b[0m\u001b[1;33m:\u001b[0m\u001b[1;33m\u001b[0m\u001b[0m\n\u001b[1;32m-> 1831\u001b[1;33m             \u001b[1;32mraise\u001b[0m \u001b[0mValueError\u001b[0m\u001b[1;33m(\u001b[0m\u001b[1;34m'labels %s not contained in axis'\u001b[0m \u001b[1;33m%\u001b[0m \u001b[0mlabels\u001b[0m\u001b[1;33m[\u001b[0m\u001b[0mmask\u001b[0m\u001b[1;33m]\u001b[0m\u001b[1;33m)\u001b[0m\u001b[1;33m\u001b[0m\u001b[0m\n\u001b[0m\u001b[0;32m   1832\u001b[0m         \u001b[1;32mreturn\u001b[0m \u001b[0mself\u001b[0m\u001b[1;33m.\u001b[0m\u001b[0mdelete\u001b[0m\u001b[1;33m(\u001b[0m\u001b[0mindexer\u001b[0m\u001b[1;33m)\u001b[0m\u001b[1;33m\u001b[0m\u001b[0m\n\u001b[0;32m   1833\u001b[0m \u001b[1;33m\u001b[0m\u001b[0m\n",
      "\u001b[1;31mValueError\u001b[0m: labels ['Week'] not contained in axis"
     ]
    }
   ],
   "source": [
    "dfRecords.drop('Week', axis=1, inplace=True)\n",
    "dfRecords['Month']=(df['Date Submitted:']).map(lambda x: x.month)\n",
    "dfRecords['Warning']=df['Warning:']"
   ]
  },
  {
   "cell_type": "code",
   "execution_count": 113,
   "metadata": {
    "collapsed": false,
    "slideshow": {
     "slide_type": "fragment"
    }
   },
   "outputs": [
    {
     "data": {
      "text/plain": [
       "<matplotlib.legend.Legend at 0x11175e80>"
      ]
     },
     "execution_count": 113,
     "metadata": {},
     "output_type": "execute_result"
    },
    {
     "data": {
      "image/png": "[encoded data removed]",
      "text/plain": [
       "<matplotlib.figure.Figure at 0xe332908>"
      ]
     },
     "metadata": {},
     "output_type": "display_data"
    }
   ],
   "source": [
    "#Create a pivot table\n",
    "dfWeekYear = dfRecords.pivot_table(index=['Year','Month'],columns='Warning',aggfunc=len)\n",
    "\n",
    "#Create empty list and add the two columns as arrays. \n",
    "y=[]\n",
    "y.append(dfWeekYear['ID','no'].values)\n",
    "y.append(dfWeekYear['ID','yes'].values)\n",
    "percent = y/(y[0]+y[1]).astype(float)*100\n",
    "\n",
    "#Create a sequential array for plotting\n",
    "x = np.arange(len(dfWeekYear))\n",
    "\n",
    "plt.stackplot(x, percent)\n",
    "plt.xlim(0,38)\n",
    "plt.title(\"Stacked Area Chart: % of Reports split \\n by binary column 'Warning:'\",fontsize=16)\n",
    "plt.xlabel(\"Sequential Month: Aug 2011 - Nov 2014\",fontsize=14)\n",
    "plt.ylabel(\"Percentage\",fontsize=14)\n",
    "\n",
    "#For the Legend in Stackplot. Create rectangles and pass to legend object.\n",
    "import matplotlib.patches as mpatches\n",
    "p1 = mpatches.Rectangle((0, 0), 1, 1, fc=\"green\")\n",
    "p2 = mpatches.Rectangle((0, 0), 1, 1, fc=\"blue\")\n",
    "plt.legend([p1, p2], ['Warning: Yes','Warning: No'])"
   ]
  },
  {
   "cell_type": "markdown",
   "metadata": {
    "slideshow": {
     "slide_type": "slide"
    }
   },
   "source": [
    "# 4a .Classifcation \n",
    "\n",
    "- Build a simple Naive Bayes Model using <b>Description</b> free text field as input features and <b>Warning</b> as target label\n",
    "- Filter rows to those in English"
   ]
  },
  {
   "cell_type": "code",
   "execution_count": 115,
   "metadata": {
    "collapsed": false,
    "slideshow": {
     "slide_type": "skip"
    }
   },
   "outputs": [],
   "source": [
    "import pandas as pd\n",
    "\n",
    "df=pd.read_csv(\"C:\\Users\\IBM_ADMIN\\Desktop\\PyData_Berlin_May15\\Processes\\Data\\prReports.csv\",encoding='utf-8') \n",
    "\n",
    "#Recode columns containing data information to DataTime Series.\n",
    "#Allows for easier data manipulation.\n",
    "df['Date Submitted:']=pd.to_datetime(df['Date Submitted:'])\n",
    "df['Last Updated:']=pd.to_datetime(df['Last Updated:'])\n",
    "df['Member Since:']=pd.to_datetime(df['Member Since:'])\n",
    "\n",
    "import numpy as np\n",
    "\n",
    "#Create count of the Warning: column\n",
    "allRows=df['Warning:'].value_counts()\n",
    "filterRows=df[(df['Language:']=='en')&(df['Language Percentage:']>=0.99)\n",
    "              &(df['User Admin:']==False)]['Warning:'].value_counts()\n",
    "\n",
    "#Pass the volues to a dictonary and then create a dataframe, and calcualte percentages. \n",
    "countValues = {'All': allRows.values, 'Filtered': filterRows.values}\n",
    "countDF = pd.DataFrame(data=countValues,index={'No','Yes'})\n",
    "countDF['All%']=np.round(countDF.All/sum(countDF.All),decimals=2)\n",
    "countDF['Filter%']=np.round(countDF.Filtered/sum(countDF.Filtered),decimals=2)\n",
    "\n"
   ]
  },
  {
   "cell_type": "code",
   "execution_count": 116,
   "metadata": {
    "collapsed": false,
    "slideshow": {
     "slide_type": "fragment"
    }
   },
   "outputs": [
    {
     "data": {
      "text/html": [
       "<div style=\"max-height:1000px;max-width:1500px;overflow:auto;\">\n",
       "<table border=\"1\" class=\"dataframe\">\n",
       "  <thead>\n",
       "    <tr style=\"text-align: right;\">\n",
       "      <th></th>\n",
       "      <th>All</th>\n",
       "      <th>Filtered</th>\n",
       "      <th>All%</th>\n",
       "      <th>Filter%</th>\n",
       "    </tr>\n",
       "  </thead>\n",
       "  <tbody>\n",
       "    <tr>\n",
       "      <th>Yes</th>\n",
       "      <td> 3184</td>\n",
       "      <td> 1888</td>\n",
       "      <td> 0.64</td>\n",
       "      <td> 0.65</td>\n",
       "    </tr>\n",
       "    <tr>\n",
       "      <th>No</th>\n",
       "      <td> 1817</td>\n",
       "      <td> 1008</td>\n",
       "      <td> 0.36</td>\n",
       "      <td> 0.35</td>\n",
       "    </tr>\n",
       "  </tbody>\n",
       "</table>\n",
       "</div>"
      ],
      "text/plain": [
       "      All  Filtered  All%  Filter%\n",
       "Yes  3184      1888  0.64     0.65\n",
       "No   1817      1008  0.36     0.35"
      ]
     },
     "execution_count": 116,
     "metadata": {},
     "output_type": "execute_result"
    }
   ],
   "source": [
    "countDF"
   ]
  },
  {
   "cell_type": "code",
   "execution_count": 117,
   "metadata": {
    "collapsed": true,
    "slideshow": {
     "slide_type": "skip"
    }
   },
   "outputs": [],
   "source": [
    "df=df[(df['Language:']=='en')&(df['Language Percentage:']>=0.99)&(df['User Admin:']==False)]\n",
    "df=df.drop(['Language:','Language Percentage:','User Admin:','mongo_id:'], 1)"
   ]
  },
  {
   "cell_type": "code",
   "execution_count": 144,
   "metadata": {
    "collapsed": false,
    "slideshow": {
     "slide_type": "subslide"
    }
   },
   "outputs": [],
   "source": [
    "from sklearn.feature_extraction.text import CountVectorizer\n",
    "from sklearn.naive_bayes import MultinomialNB\n",
    "\n",
    "#Values for document frequencies in percent.\n",
    "vec1_count = CountVectorizer(min_df=0.001,max_df=0.995)     \n",
    "clf1 = MultinomialNB()\n",
    "# Extract the predictor and target variables.\n",
    "X=df['Description:']  \n",
    "\n",
    "#Encode the target variable. \n",
    "from sklearn.preprocessing import LabelEncoder\n",
    "le = LabelEncoder()\n",
    "le.fit(df['Warning:'])\n",
    "y=le.transform(df['Warning:'])\n",
    "\n",
    "# Split the data randomly into test and training sets. Set the random state for comparison.\n",
    "from sklearn import cross_validation\n",
    "X_train, X_test, y_train, y_test = cross_validation.train_test_split(X,y,test_size=0.3,random_state=79)\n",
    "\n",
    "from sklearn import pipeline\n",
    "pipe = pipeline.Pipeline([('vectorizer', vec1_count),('clf', clf1)])\n",
    "\n",
    "#6# Train the model using 5 fold craiss validation and calculate the scores. \n",
    "train_scores = cross_validation.cross_val_score(pipe, X_train, y_train, cv=5)\n",
    "pipe_model=pipe.fit(X_train, y_train)\n",
    "#must fit to get the vocabulary_\n",
    "number_features=len(vec1_count.vocabulary_)  \n",
    "test_score=pipe_model.score(X_test,y_test)"
   ]
  },
  {
   "cell_type": "code",
   "execution_count": 145,
   "metadata": {
    "collapsed": false,
    "slideshow": {
     "slide_type": "skip"
    }
   },
   "outputs": [],
   "source": [
    "#User a dictionary to capture model results\n",
    "results_dict = {'1.Train Acc.':train_scores.mean(),\n",
    "                '2.Train std.':train_scores.std(),\n",
    "                '3.Test Score':test_score,\n",
    "                '# Features':number_features}\n",
    "results = []\n",
    "results.append(dict(results_dict))\n",
    "#Convert results dictionary to a data frame\n",
    "results_df=pd.DataFrame(results)\n"
   ]
  },
  {
   "cell_type": "code",
   "execution_count": 146,
   "metadata": {
    "collapsed": false,
    "slideshow": {
     "slide_type": "fragment"
    }
   },
   "outputs": [
    {
     "data": {
      "text/html": [
       "<div style=\"max-height:1000px;max-width:1500px;overflow:auto;\">\n",
       "<table border=\"1\" class=\"dataframe\">\n",
       "  <thead>\n",
       "    <tr style=\"text-align: right;\">\n",
       "      <th></th>\n",
       "      <th># Features</th>\n",
       "      <th>1.Train Acc.</th>\n",
       "      <th>2.Train std.</th>\n",
       "      <th>3.Test Score</th>\n",
       "    </tr>\n",
       "  </thead>\n",
       "  <tbody>\n",
       "    <tr>\n",
       "      <th>0</th>\n",
       "      <td> 2268</td>\n",
       "      <td> 0.732566</td>\n",
       "      <td> 0.024898</td>\n",
       "      <td> 0.726122</td>\n",
       "    </tr>\n",
       "  </tbody>\n",
       "</table>\n",
       "</div>"
      ],
      "text/plain": [
       "   # Features  1.Train Acc.  2.Train std.  3.Test Score\n",
       "0        2268      0.732566      0.024898      0.726122"
      ]
     },
     "execution_count": 146,
     "metadata": {},
     "output_type": "execute_result"
    }
   ],
   "source": [
    "results_df"
   ]
  },
  {
   "cell_type": "markdown",
   "metadata": {
    "slideshow": {
     "slide_type": "subslide"
    }
   },
   "source": [
    "- Visualise the top predictors based on their chi-square statistic\n",
    "- chi-square currently only variable importance score available in scikit-learn"
   ]
  },
  {
   "cell_type": "code",
   "execution_count": 148,
   "metadata": {
    "collapsed": true,
    "slideshow": {
     "slide_type": "skip"
    }
   },
   "outputs": [],
   "source": [
    "#Vector Rerpresentation: Use the first vector representation provided above, using Binary Vectorizer\n",
    "vec = CountVectorizer(token_pattern=r\"[a-zA-Z]{2,30}\",min_df=0.001,max_df=0.95,binary=True)\n",
    "\n",
    "# Specify the model\n",
    "clf = MultinomialNB()\n",
    "\n",
    "# Extract the predictor and target variables.\n",
    "X=df['Description:']  \n",
    "\n",
    "#Use the label encoder to transform the column\n",
    "#into useable numeric array. Label encoders are useful for extracting the \n",
    "#alpha representation of a label, when the model has been completed. \n",
    "le = LabelEncoder()\n",
    "le.fit(df['Warning:'])\n",
    "y=le.transform(df['Warning:'])\n",
    "\n",
    "#Split the data randomly into test and training sets. \n",
    "X_train, X_test, y_train, y_test = cross_validation.train_test_split(X,y,test_size=0.4,random_state=79)\n",
    "\n",
    "vec.fit(X_train)\n",
    "X_train=vec.transform(X_train)"
   ]
  },
  {
   "cell_type": "code",
   "execution_count": 150,
   "metadata": {
    "collapsed": false,
    "slideshow": {
     "slide_type": "fragment"
    }
   },
   "outputs": [],
   "source": [
    "#feature_select.KBest, feature_select.SelectPercentile for determing the number of features\n",
    "from sklearn.feature_selection import SelectKBest, chi2\n",
    "\n",
    "#Feature selection based on select k number of features\n",
    "fs = SelectKBest(chi2, k=250)\n",
    "fs.fit(X_train,y_train)\n",
    "\n",
    "\n",
    "#Return the feature names from the vectorisation\n",
    "#Get the list of the top 250 as calculated by chi-squared.\n",
    "chi_index = fs.get_support(indices=False)\n",
    "\n",
    "#Get feature names and chi-square score.\n",
    "feature_names = vec.get_feature_names()\n",
    "chi_score=fs.scores_\n",
    "\n",
    "#Using index select top 250\n",
    "from itertools import compress\n",
    "features_selected=list(compress(feature_names, chi_index))\n",
    "features_chi_score=list(compress(chi_score,chi_index))\n",
    "\n",
    "#Tranform the Vectorization to a dense matrix and subset based on the list\n",
    "#of 250 selected features\n",
    "X_train_dense=pd.DataFrame(X_train.todense(),columns=vec.get_feature_names())\n",
    "X_train_select=X_train_dense[features_selected]\n",
    "\n",
    "#Append the target variable,using the label encoder\n",
    "X_train_select['words'] = le.inverse_transform(y_train)\n",
    "\n",
    "#Group and sum on the Target Label, counts the number of documents a word appears in. \n",
    "grouped=X_train_select.groupby('words')\n",
    "features_sum=(grouped.sum()).T\n",
    "features_sum['chi_score']=features_chi_score"
   ]
  },
  {
   "cell_type": "code",
   "execution_count": null,
   "metadata": {
    "collapsed": true,
    "slideshow": {
     "slide_type": "skip"
    }
   },
   "outputs": [],
   "source": [
    "#First stem the stopwords as the feature words have been stemmed by the vectorizer.\n",
    "from nltk.corpus import stopwords\n",
    "stop = stopwords.words('english')\n",
    "\n",
    "#Create column to indicate if word is a stop word.\n",
    "features_sum['stop']='blue'\n",
    "i=0\n",
    "for item in features_selected:\n",
    "    if item in stop:\n",
    "        features_sum['stop'][i]='red'\n",
    "    i=i+1\n",
    "\n",
    "features_sum=features_sum.sort('chi_score',ascending=[False])"
   ]
  },
  {
   "cell_type": "code",
   "execution_count": 205,
   "metadata": {
    "collapsed": false,
    "slideshow": {
     "slide_type": "subslide"
    }
   },
   "outputs": [
    {
     "data": {
      "text/html": [
       "<div style=\"max-height:1000px;max-width:1500px;overflow:auto;\">\n",
       "<table border=\"1\" class=\"dataframe\">\n",
       "  <thead>\n",
       "    <tr style=\"text-align: right;\">\n",
       "      <th>words</th>\n",
       "      <th>no</th>\n",
       "      <th>yes</th>\n",
       "      <th>chi_score</th>\n",
       "    </tr>\n",
       "  </thead>\n",
       "  <tbody>\n",
       "    <tr>\n",
       "      <th>black</th>\n",
       "      <td> 203</td>\n",
       "      <td> 27</td>\n",
       "      <td> 55.633781</td>\n",
       "    </tr>\n",
       "    <tr>\n",
       "      <th>mg</th>\n",
       "      <td> 181</td>\n",
       "      <td> 26</td>\n",
       "      <td> 46.631068</td>\n",
       "    </tr>\n",
       "    <tr>\n",
       "      <th>nice</th>\n",
       "      <td> 107</td>\n",
       "      <td> 13</td>\n",
       "      <td> 31.307648</td>\n",
       "    </tr>\n",
       "    <tr>\n",
       "      <th>meth</th>\n",
       "      <td>   2</td>\n",
       "      <td> 20</td>\n",
       "      <td> 29.885005</td>\n",
       "    </tr>\n",
       "    <tr>\n",
       "      <th>seconds</th>\n",
       "      <td> 104</td>\n",
       "      <td> 15</td>\n",
       "      <td> 26.701739</td>\n",
       "    </tr>\n",
       "    <tr>\n",
       "      <th>warning</th>\n",
       "      <td>  11</td>\n",
       "      <td> 30</td>\n",
       "      <td> 25.859409</td>\n",
       "    </tr>\n",
       "    <tr>\n",
       "      <th>marquis</th>\n",
       "      <td> 183</td>\n",
       "      <td> 46</td>\n",
       "      <td> 23.020620</td>\n",
       "    </tr>\n",
       "    <tr>\n",
       "      <th>sour</th>\n",
       "      <td>   5</td>\n",
       "      <td> 17</td>\n",
       "      <td> 17.038636</td>\n",
       "    </tr>\n",
       "    <tr>\n",
       "      <th>piperazine</th>\n",
       "      <td>   1</td>\n",
       "      <td> 11</td>\n",
       "      <td> 16.747539</td>\n",
       "    </tr>\n",
       "    <tr>\n",
       "      <th>mandelin</th>\n",
       "      <td>  70</td>\n",
       "      <td> 11</td>\n",
       "      <td> 16.642302</td>\n",
       "    </tr>\n",
       "  </tbody>\n",
       "</table>\n",
       "</div>"
      ],
      "text/plain": [
       "words        no  yes  chi_score\n",
       "black       203   27  55.633781\n",
       "mg          181   26  46.631068\n",
       "nice        107   13  31.307648\n",
       "meth          2   20  29.885005\n",
       "seconds     104   15  26.701739\n",
       "warning      11   30  25.859409\n",
       "marquis     183   46  23.020620\n",
       "sour          5   17  17.038636\n",
       "piperazine    1   11  16.747539\n",
       "mandelin     70   11  16.642302"
      ]
     },
     "execution_count": 205,
     "metadata": {},
     "output_type": "execute_result"
    }
   ],
   "source": [
    "features_sum[['no','yes','chi_score']].head(n=10)"
   ]
  },
  {
   "cell_type": "code",
   "execution_count": null,
   "metadata": {
    "collapsed": true,
    "slideshow": {
     "slide_type": "subslide"
    }
   },
   "outputs": [],
   "source": [
    "import matplotlib.pyplot as plt\n",
    "\n",
    "#Define color map and figure size.\n",
    "cm = plt.cm.get_cmap('RdYlBu')\n",
    "plt.figure(figsize=(18,12)) \n",
    "\n",
    "\n",
    "#Plot the 250 point, size by chi-square score and color by stop. \n",
    "plt.scatter(x=features_sum['no'], y=features_sum['yes'],\n",
    "            s=features_sum['chi_score']*25, \n",
    "            c=features_sum['stop'],cmap=cm,alpha=0.75)\n",
    "\n",
    "#Plot Title and Axis.\n",
    "plt.title(\"Top 250 most predictive words (chi-squared): Frequency Count split by Warning: \\\n",
    "            \\n Points coloured if word is English stopword.\", fontsize=22)\n",
    "\n",
    "plt.xlabel(\"Warning: = no\",fontsize=20)\n",
    "plt.ylabel(\"Warning: = yes\",fontsize=20)\n",
    "plt.xlim(-5,800)\n",
    "plt.ylim(-5,400)\n",
    "#plt.axis('equal')\n",
    "\n",
    "#Select some features for display label. \n",
    "data=features_sum[((features_sum[\"no\"] > 200 ) & (features_sum[\"yes\"] >25 ))]\n",
    "data=data.append(features_sum[((features_sum[\"no\"] < 200) & (features_sum[\"yes\"] >50 ))])\n",
    "data=data.append(features_sum[(features_sum['chi_score']>14.5)])\n",
    "data=data.sort(['no','yes'])"
   ]
  },
  {
   "cell_type": "markdown",
   "metadata": {
    "slideshow": {
     "slide_type": "subslide"
    }
   },
   "source": [
    "<img src=\"img5_6a.png\" width=1500 height=1500/>"
   ]
  },
  {
   "cell_type": "markdown",
   "metadata": {
    "slideshow": {
     "slide_type": "subslide"
    }
   },
   "source": [
    "<img src=\"img5_6b.png\" width=1000 height=1000/>"
   ]
  },
  {
   "cell_type": "markdown",
   "metadata": {
    "slideshow": {
     "slide_type": "slide"
    }
   },
   "source": [
    "# 4b . PCA & Clustering\n",
    "\n",
    "- Using the <b>User Report</b> free text field as input features, create PCA representation.\n",
    "- Filter rows to those where the language is English and the Country of origin is USA, Australia, England, Netherlands, Canada, Ireland, Scotland, or Spain - 1458 rows."
   ]
  },
  {
   "cell_type": "code",
   "execution_count": 185,
   "metadata": {
    "collapsed": false,
    "slideshow": {
     "slide_type": "skip"
    }
   },
   "outputs": [
    {
     "name": "stdout",
     "output_type": "stream",
     "text": [
      "Rows Removed: 12\n"
     ]
    },
    {
     "data": {
      "text/plain": [
       "(1458, 34)"
      ]
     },
     "execution_count": 185,
     "metadata": {},
     "output_type": "execute_result"
    }
   ],
   "source": [
    "import pandas as pd\n",
    "\n",
    "df=pd.read_csv(\"C:\\Users\\IBM_ADMIN\\Desktop\\PyData_Berlin_May15\\Processes\\Data\\prReports.csv\",encoding='utf-8') \n",
    "\n",
    "#Recode columns containing data information to DataTime Series.\n",
    "#Allows for easier data manipulation.\n",
    "df['Date Submitted:']=pd.to_datetime(df['Date Submitted:'])\n",
    "df['Last Updated:']=pd.to_datetime(df['Last Updated:'])\n",
    "df['Member Since:']=pd.to_datetime(df['Member Since:'])\n",
    "df['Year']=(df['Date Submitted:']).map(lambda x: x.year)\n",
    "\n",
    "#Subset the data\n",
    "\n",
    "#Shorten to list of countries\n",
    "country_list=['USA', 'Australia','England','Netherlands','Canada','Ireland','Scotland','Spain']\n",
    "\n",
    "df=df[(df['Language:']=='en')&\n",
    "      (df['Language Percentage:']>=0.99)&\n",
    "      (df['User Admin:']==False)&(df['Year'].isin([2012,2013]))&\n",
    "      df['Country:'].isin(country_list)]\n",
    "df=df.drop(['Language:','Language Percentage:','User Admin:','mongo_id:'], 1)\n",
    "\n",
    "#Drop anything greater than 5000 characters\n",
    "#Subset the data\n",
    "no_rows=df.shape[0]\n",
    "df=df[(df['UR Length:']<=5000)]\n",
    "print(\"Rows Removed: %0.0f\" % (no_rows-df.shape[0]))\n",
    "\n",
    "df.shape"
   ]
  },
  {
   "cell_type": "code",
   "execution_count": 186,
   "metadata": {
    "collapsed": false,
    "slideshow": {
     "slide_type": "skip"
    }
   },
   "outputs": [
    {
     "data": {
      "text/html": [
       "<div style=\"max-height:1000px;max-width:1500px;overflow:auto;\">\n",
       "<table border=\"1\" class=\"dataframe\">\n",
       "  <thead>\n",
       "    <tr style=\"text-align: right;\">\n",
       "      <th></th>\n",
       "      <th>ID</th>\n",
       "      <th>User Report</th>\n",
       "      <th>Warning</th>\n",
       "      <th>Country</th>\n",
       "      <th>SC Category</th>\n",
       "      <th>Weekday</th>\n",
       "      <th>UR Len Split</th>\n",
       "    </tr>\n",
       "  </thead>\n",
       "  <tbody>\n",
       "    <tr>\n",
       "      <th>967</th>\n",
       "      <td> 32859</td>\n",
       "      <td> My user report cannot be accurate as I was tak...</td>\n",
       "      <td>  no</td>\n",
       "      <td>  Scotland</td>\n",
       "      <td>  mdxx</td>\n",
       "      <td> Mon</td>\n",
       "      <td>      [103, 621.667]</td>\n",
       "    </tr>\n",
       "    <tr>\n",
       "      <th>971</th>\n",
       "      <td> 32851</td>\n",
       "      <td> Wanting to chase 'the clean high', we decided ...</td>\n",
       "      <td>  no</td>\n",
       "      <td>  Scotland</td>\n",
       "      <td>  mdxx</td>\n",
       "      <td> Sun</td>\n",
       "      <td> (621.667, 1260.667]</td>\n",
       "    </tr>\n",
       "    <tr>\n",
       "      <th>973</th>\n",
       "      <td> 32849</td>\n",
       "      <td> Sorry for not posting a picture but me and my ...</td>\n",
       "      <td> yes</td>\n",
       "      <td> Australia</td>\n",
       "      <td> other</td>\n",
       "      <td> Sat</td>\n",
       "      <td>    (1260.667, 4863]</td>\n",
       "    </tr>\n",
       "    <tr>\n",
       "      <th>976</th>\n",
       "      <td> 32842</td>\n",
       "      <td> i consumed the pill around 10pm and about 10:4...</td>\n",
       "      <td>  no</td>\n",
       "      <td> Australia</td>\n",
       "      <td>  mdxx</td>\n",
       "      <td> Fri</td>\n",
       "      <td>      [103, 621.667]</td>\n",
       "    </tr>\n",
       "    <tr>\n",
       "      <th>979</th>\n",
       "      <td> 32836</td>\n",
       "      <td> Okay, i got sick and tired of waiting for a co...</td>\n",
       "      <td>  no</td>\n",
       "      <td> Australia</td>\n",
       "      <td>  mdxx</td>\n",
       "      <td> Fri</td>\n",
       "      <td>    (1260.667, 4863]</td>\n",
       "    </tr>\n",
       "  </tbody>\n",
       "</table>\n",
       "</div>"
      ],
      "text/plain": [
       "        ID                                        User Report Warning  \\\n",
       "967  32859  My user report cannot be accurate as I was tak...      no   \n",
       "971  32851  Wanting to chase 'the clean high', we decided ...      no   \n",
       "973  32849  Sorry for not posting a picture but me and my ...     yes   \n",
       "976  32842  i consumed the pill around 10pm and about 10:4...      no   \n",
       "979  32836  Okay, i got sick and tired of waiting for a co...      no   \n",
       "\n",
       "       Country SC Category Weekday         UR Len Split  \n",
       "967   Scotland        mdxx     Mon       [103, 621.667]  \n",
       "971   Scotland        mdxx     Sun  (621.667, 1260.667]  \n",
       "973  Australia       other     Sat     (1260.667, 4863]  \n",
       "976  Australia        mdxx     Fri       [103, 621.667]  \n",
       "979  Australia        mdxx     Fri     (1260.667, 4863]  "
      ]
     },
     "execution_count": 186,
     "metadata": {},
     "output_type": "execute_result"
    }
   ],
   "source": [
    "clusterDF=pd.DataFrame()\n",
    "clusterDF['ID']=df['ID:']\n",
    "clusterDF['User Report']=df['User Report:']\n",
    "clusterDF['Warning']=df['Warning:']\n",
    "clusterDF['Country']=df['Country:']\n",
    "clusterDF['SC Category']=df['SC Category:']\n",
    "clusterDF['Weekday']=(df['Date Submitted:']).map(lambda x: x.strftime('%a'))\n",
    "clusterDF['UR Len Split']= pd.qcut(df['UR Length:'],3)\n"
   ]
  },
  {
   "cell_type": "code",
   "execution_count": 187,
   "metadata": {
    "collapsed": false,
    "slideshow": {
     "slide_type": "skip"
    }
   },
   "outputs": [
    {
     "name": "stdout",
     "output_type": "stream",
     "text": [
      "(1458, 378)\n"
     ]
    }
   ],
   "source": [
    "from nltk.tokenize import word_tokenize\n",
    "\n",
    "from nltk.corpus import stopwords\n",
    "import re\n",
    "from nltk.stem.porter import PorterStemmer\n",
    "import string\n",
    "\n",
    "stemmer = PorterStemmer()\n",
    "\n",
    "def tokenize_stem(text):\n",
    "    \n",
    "    #Replace all punctuation with white space before tokenizing. May reduce meaning of hypenhated words.\n",
    "    regex = re.compile('[%s]' % re.escape(string.punctuation))\n",
    "    no_punc = regex.sub(' ', text)\n",
    "   \n",
    "    #Toeknize the words, split by white space. Plenty of white space introduced above!\n",
    "    tokens = word_tokenize(text.lower())\n",
    " \n",
    "    # longwords=[] # for item in tokens:   #check=re.search(r\"[a-zA-Z0-9]{2,30}\",item) #if check: #longwords.append(check.group())\n",
    "    \n",
    "    #Strip out english stop words\n",
    "    filtered_words = [w for w in tokens if not w in stopwords.words('english')]\n",
    "    \n",
    "    #Stem the words. \n",
    "    stemmed = [] #List to hold the words\n",
    "    \n",
    "    #Iterate over the words in tn the text and stem.\n",
    "    for item in filtered_words:\n",
    "        stemmed.append(stemmer.stem(item))\n",
    "      \n",
    "    return stemmed\n",
    "\n",
    "#Using tf_idf vectorizer but control for the multiple occurence of word within one document \n",
    "#with binary=True, only weight for occurence across the corpus.\n",
    "from sklearn.feature_extraction.text import TfidfVectorizer\n",
    "vec_tfidf = TfidfVectorizer(binary=True,tokenizer=tokenize_stem,max_df=0.95,min_df=0.05)\n",
    "\n",
    "#Alternative vectorizer - using binary occurence, no weighting for words occuernce across corpus\n",
    "from sklearn.feature_extraction.text import CountVectorizer\n",
    "vec = CountVectorizer(binary=True,tokenizer=tokenize_stem,max_df=0.95,min_df=0.05)\n",
    "\n",
    "vec_tfidf.fit(clusterDF['User Report'])\n",
    "data = vec_tfidf.transform(clusterDF['User Report'])\n",
    "print data.shape"
   ]
  },
  {
   "cell_type": "markdown",
   "metadata": {
    "slideshow": {
     "slide_type": "subslide"
    }
   },
   "source": [
    "- Create a binary occurence vector representation of stemmed words (Porter) \n",
    "- Normalise vector with tfidf\n",
    "- 378 features created \n",
    "- perform PCA and return 2 components \n",
    "- 3.5% of total variance explained "
   ]
  },
  {
   "cell_type": "code",
   "execution_count": 188,
   "metadata": {
    "collapsed": false,
    "slideshow": {
     "slide_type": "fragment"
    }
   },
   "outputs": [
    {
     "name": "stdout",
     "output_type": "stream",
     "text": [
      "Explained variance ratio of the first two components: 0.0345791983519\n"
     ]
    }
   ],
   "source": [
    "from sklearn import cluster\n",
    "from sklearn.decomposition import PCA\n",
    "\n",
    "#Clustering\n",
    "k = 3\n",
    "kmeans = cluster.KMeans(n_clusters=k)\n",
    "kmeans.fit(data)\n",
    "clusterDF['Cluster']=kmeans.labels_\n",
    "\n",
    "#PCA\n",
    "pca = PCA(n_components=2)\n",
    "UR_PCA = pca.fit(data.todense()).transform(data.todense())\n",
    "\n",
    "variance=sum(pca.explained_variance_ratio_)\n",
    "\n",
    "clusterDF['PC1']=UR_PCA[:,0]\n",
    "clusterDF['PC2']=UR_PCA[:,1]\n",
    "\n",
    "print('Explained variance ratio of the first two components: %s'% variance)"
   ]
  },
  {
   "cell_type": "markdown",
   "metadata": {
    "slideshow": {
     "slide_type": "fragment"
    }
   },
   "source": [
    "- create scatter plot of the components\n",
    "- colour the points according the nominal variables"
   ]
  },
  {
   "cell_type": "code",
   "execution_count": null,
   "metadata": {
    "collapsed": true,
    "slideshow": {
     "slide_type": "skip"
    }
   },
   "outputs": [],
   "source": [
    "columnlist=['Cluster','UR Len Split','Warning','SC Category','Country','Weekday'] #'Tested'\n",
    "\n",
    "#Create plot with 3 rows and 2 columns\n",
    "fig, axs = plt.subplots(3,2, figsize=(16, 14), facecolor='w', edgecolor='k')\n",
    "fig.subplots_adjust(hspace = .15, wspace=.1)\n",
    "plt.suptitle((\"First Two Principal Components (Vectorized User Report:) \\n %0.1f percent of total variance captured.\"\n",
    "            % (variance*100)), fontsize=14,fontweight='bold')  \n",
    "\n",
    "\n",
    "#Create index of all the subplots.\n",
    "axs = axs.ravel()\n",
    "\n",
    "for col in range(len(columnlist)):\n",
    "    \n",
    "    levelslist=clusterDF[columnlist[col]].unique().tolist()\n",
    "    split=float(1.0/(len(clusterDF[columnlist[col]].unique().tolist())))\n",
    "    breaks=np.arange(0.0,1.0,split)\n",
    "    colors=colors_at_breaks(colormap,breaks)\n",
    "    \n",
    "    plt.figure()\n",
    "    for c, i, target_name in zip(colors, levelslist, levelslist):\n",
    "        axs[col].scatter(clusterDF['PC1'][(clusterDF[columnlist[col]]==i)],\n",
    "                    clusterDF['PC2'][(clusterDF[columnlist[col]]==i)],c=c,label=target_name,alpha=0.75)\n",
    "        axs[col].set_title(\"(\"+(str(col+1)+\") Points Coloured On: \"+columnlist[col]),fontweight='bold')\n",
    "        axs[col].legend()"
   ]
  },
  {
   "cell_type": "markdown",
   "metadata": {
    "slideshow": {
     "slide_type": "subslide"
    }
   },
   "source": [
    "<img src=\"img6_8_new.png\" width=1000 height=1000/>"
   ]
  },
  {
   "cell_type": "code",
   "execution_count": null,
   "metadata": {
    "collapsed": true,
    "slideshow": {
     "slide_type": "subslide"
    }
   },
   "outputs": [],
   "source": [
    "from nltk import pos_tag\n",
    "clusterDF['Tagged']=(clusterDF['User Report']).map(lambda x: pos_tag(word_tokenize(x)))\n",
    "clusterDF['Rich_words']=(clusterDF['Tagged']).map(lambda x: ' '.join([y[0].lower() for y in x if y[1] in ['JJ','NN']]))\n",
    "\n",
    "words1 = ' '.join(clusterDF['Rich_words'][(clusterDF['SC Category']=='mdxx')])\n",
    "words2 = ' '.join(clusterDF['Rich_words'][(clusterDF['SC Category']=='amphet')])\n",
    "words3 = ' '.join(clusterDF['Rich_words'][(clusterDF['SC Category']=='unknown')])"
   ]
  },
  {
   "cell_type": "markdown",
   "metadata": {
    "slideshow": {
     "slide_type": "fragment"
    }
   },
   "source": [
    "<img src=\"img6_9.png\" width=1000 height=1000/>"
   ]
  },
  {
   "cell_type": "markdown",
   "metadata": {
    "slideshow": {
     "slide_type": "skip"
    }
   },
   "source": [
    "# Pracital Applications\n",
    "\n",
    "- <font color=\"red\"> __safrole__</font> is a precusor chemical required to make MDMA (Methylenedioxy-Methamphetamine)\n",
    "- UN has prohibited its production and sale\n",
    "- <font color=\"red\"> __Aniseed oil__</font> is chemically very similar to __safrole__ \n",
    "- when used produces a drug call PMMA (Para-MethoxyMethAmphetamine) <br><br>\n",
    "\n",
    "### PMMA is more toxic than MDMA\n",
    "- more potent than MDMA (10 times)\n",
    "- MDMA takes 30 minutes to take effects, PMMA takes about 2 hours. People overconsume. \n",
    "\n",
    "\n",
    "\n",
    "April 2011 - Nov 2014 "
   ]
  },
  {
   "cell_type": "markdown",
   "metadata": {
    "slideshow": {
     "slide_type": "slide"
    }
   },
   "source": [
    "\n",
    "<img src=\"questions_comments.png\" width=1000 height=1000/>"
   ]
  },
  {
   "cell_type": "code",
   "execution_count": null,
   "metadata": {
    "collapsed": true
   },
   "outputs": [],
   "source": []
  }
 ],
 "metadata": {
  "celltoolbar": "Slideshow",
  "kernelspec": {
   "display_name": "Python 2",
   "language": "python",
   "name": "python2"
  },
  "language_info": {
   "codemirror_mode": {
    "name": "ipython",
    "version": 2
   },
   "file_extension": ".py",
   "mimetype": "text/x-python",
   "name": "python",
   "nbconvert_exporter": "python",
   "pygments_lexer": "ipython2",
   "version": "2.7.10"
  }
 },
 "nbformat": 4,
 "nbformat_minor": 0
}
