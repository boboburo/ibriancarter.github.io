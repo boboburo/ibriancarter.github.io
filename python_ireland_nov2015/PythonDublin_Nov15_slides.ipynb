{
 "cells": [
  {
   "cell_type": "markdown",
   "metadata": {
    "slideshow": {
     "slide_type": "slide"
    }
   },
   "source": [
    "### <span style=\"color:green\"> The Plug!!! </span>\n",
    "\n",
    "<img src=\"images/bookcover.jpg\",style=\"width: 400px;\"> "
   ]
  },
  {
   "cell_type": "markdown",
   "metadata": {
    "slideshow": {
     "slide_type": "slide"
    }
   },
   "source": [
    "### Brian Carter ,  Data Scientist , IBM Dublin, Ireland \n",
    "\n",
    "#### Talk\n",
    "\n",
    "* Background\n",
    "* Cleaning the Data\n",
    "* Classificaiton\n",
    "* Clustering\n",
    "* Topic Modelling "
   ]
  },
  {
   "cell_type": "markdown",
   "metadata": {
    "slideshow": {
     "slide_type": "slide"
    }
   },
   "source": [
    "### Background\n",
    "\n",
    "* Mining unstructured text from a website, <a href=\"http://www.pillreports.net/index.php?page=display_pill&id=34892\" target=\"_blank\">pillreports.net</a>\n",
    "\n",
    "  \n",
    "* Same as any review site, except its focus is on Ecstasy culture\n",
    "\n",
    "<img src=\"images/ecstasy.jpg\",style=\"width: 350px;\">\n",
    "\n",
    "\n",
    "\n"
   ]
  },
  {
   "cell_type": "markdown",
   "metadata": {
    "slideshow": {
     "slide_type": "slide"
    }
   },
   "source": [
    "### The Idea\n",
    "\n",
    "* contents are not known until the time of consumption<br><br>\n",
    "\n",
    "* review sites may be viewed as bridge between that knowledge gap<br><br>\n",
    "\n",
    "* **The Noble Idea** \n",
    "    * flag instances where an <font color=\"red\"><strong>identifiable</strong></font> pill is producing <b>undesirable</b> effects"
   ]
  },
  {
   "cell_type": "markdown",
   "metadata": {
    "slideshow": {
     "slide_type": "slide"
    }
   },
   "source": [
    "### Getting the data\n",
    "\n",
    "* Connect to the webpage(s) - easy incremental ID  -  <a href=\"https://docs.python.org/2/library/urllib2.html\" target=\"_blank\"><font color = \"green\">(urllib2)</font> </a>\n",
    "\n",
    "\n",
    "* parse the HTML structure into working format - <a href=\"http://www.crummy.com/software/BeautifulSoup/bs4/doc/\" target=\"_blank\"><font color = \"green\">(BeautifulSoup)</font></a>\n",
    "\n",
    "\n",
    "* connect to MongoDB server, create database and save **report** and associated **comments** into two collections - <a href=\"https://api.mongodb.org/python/current/\" target=\"_blank\"><font color = \"green\">(PyMongo)</font></a>\n"
   ]
  },
  {
   "cell_type": "markdown",
   "metadata": {
    "slideshow": {
     "slide_type": "slide"
    }
   },
   "source": [
    "### Getting the the right data\n",
    "\n",
    "* Each page has the same structure - 3 HTML tables\n",
    "\n",
    "\n",
    "* The **report** is in table[2] and the **comments** in table[3]\n",
    "\n",
    "\n",
    "* Not all reports have the same fields\n",
    "    * <font color = blue> I didn't get out a ruler and measure the <strong>width</strong> and <strong>height</strong> of each pill* </font>\n",
    "\n",
    "\n",
    "##### For each webpage:\n",
    "\n",
    "* Using  Python *dictionary*, 1st column are the *keys* , 2nd column are the *values*\n",
    "\n",
    "\n",
    "* complete some basic cleaning *(remove white space, extra HTML tags)*\n",
    "\n",
    "\n",
    "* dictionary inserted as a document into MongoDB collection\n",
    "\n",
    "<a href=\"https://nbviewer.jupyter.org/github/iBrianCarter/pillreports_python/blob/master/2.Web%20Scraping.ipynb\" target=\"_blank\"><font color = \"green\">Scrape Code</font></a>\n",
    "\n"
   ]
  },
  {
   "cell_type": "markdown",
   "metadata": {
    "slideshow": {
     "slide_type": "slide"
    }
   },
   "source": [
    "### Personal Lesson 1 - <font color = red> Character Encoding in Python 2.7  </font>"
   ]
  },
  {
   "cell_type": "code",
   "execution_count": 1,
   "metadata": {
    "collapsed": false,
    "slideshow": {
     "slide_type": "fragment"
    }
   },
   "outputs": [
    {
     "name": "stdout",
     "output_type": "stream",
     "text": [
      "('String Length: ', 9, 'Type: ', <type 'str'>)\n",
      "('k\\xc3\\xb6sz\\xc3\\xb6n\\xc3\\xb6m', 'String Length: ', 11, 'Type: ', <type 'str'>)\n"
     ]
    }
   ],
   "source": [
    "eng=\"thank you\"\n",
    "hun=\"köszönöm\"\n",
    "print (\"String Length: \", len(eng), \"Type: \", type(eng))\n",
    "print(hun, \"String Length: \", len(hun), \"Type: \", type(hun))\n",
    "#k,s,z,n,m print correctly"
   ]
  },
  {
   "cell_type": "code",
   "execution_count": 2,
   "metadata": {
    "collapsed": false,
    "slideshow": {
     "slide_type": "fragment"
    }
   },
   "outputs": [
    {
     "name": "stdout",
     "output_type": "stream",
     "text": [
      "('thank you', 'String Length: ', 9, 'Type: ', <type 'str'>)\n",
      "('k?sz?n?m', 'String Length: ', 8, 'Type: ', <type 'unicode'>)\n"
     ]
    }
   ],
   "source": [
    "eng=\"thank you\"\n",
    "hun=u\"köszönöm\"\n",
    "\n",
    "print(eng, \"String Length: \", len(eng), \"Type: \", type(eng))\n",
    "print(hun. encode('ascii' , 'replace' ), \"String Length: \", len(hun),\n",
    "\"Type: \", type(hun))"
   ]
  },
  {
   "cell_type": "markdown",
   "metadata": {
    "slideshow": {
     "slide_type": "slide"
    }
   },
   "source": [
    "### str and code-points\n",
    "\n",
    "* Python 2.7 has two **basestring** types; <font color = green>str</font>  and <font color = green>unicode</font>\n",
    "\n",
    "\n",
    "* **str** are bytes whereas **unicode** is composed of unicode code-points.\n",
    "\n",
    "\n",
    "* In the first example the *O-diaeresis* takes two bytes and len() counts the number of bytes\n",
    "\n",
    "\n",
    "* In the second example the **u** prefix tells the python interprator that should be represented as **code-points** and counts the correct number of code points. \n",
    "    * <font color = red> (In Python 3 this is reversed and unicoe is standard a prefix **b** is required to create a **str** type)</font>\n",
    "    \n",
    "\n",
    "* in the second example the encode was changed and the *O-diaeresis* didn't print, no value in the look up table. "
   ]
  },
  {
   "cell_type": "markdown",
   "metadata": {
    "slideshow": {
     "slide_type": "slide"
    }
   },
   "source": [
    "### encode, ecoding, Unicode\n",
    "\n",
    "* The misues and interchange of the terms (encode, encoding, Unicode) can cause confusion. \n",
    "\n",
    "\n",
    "* **Unicode-integer** or code point is **encoded** according to a selected **encoding** standard that translates it to bytes\n",
    "\n",
    "\n",
    "* Bytes are sent and decoded by the relevant encoding to get the code-point and its character representation. \n",
    "\n",
    "\n",
    "<img src=\"images/PR_Images_6.png\",style=\"width: 800px;\"> \n",
    "\n",
    "\n",
    "\n",
    "<a href=\"https://www.youtube.com/watch?v=sgHbC6udIqc\" target=\"_blank\"><font color = \"green\">Great Video: How do i stop the pain</font></a>"
   ]
  },
  {
   "cell_type": "markdown",
   "metadata": {
    "slideshow": {
     "slide_type": "slide"
    }
   },
   "source": [
    "### Cleaning the data\n",
    "\n",
    "* Read data into pandas.DataFrame <br><br>\n",
    "* clean up the data formats  <a href=\"https://docs.python.org/2/library/datetime.html\" target=\"_blank\"><font color = \"green\">(datetime)</font> </a>\n",
    "\n",
    "\n",
    "* tidy integers with textual units (mm)  - regular expressions \n",
    "\n",
    "\n",
    "*  split fields into new columns (Report Quality Rating - 3.35 stars, 3 votes) etc.\n",
    "\n",
    "\n",
    "* geo coding - very messy  *(SoCal = Calafornia, USA ; Vic = Victoria, Austrailia)* \n",
    "\n",
    "\n",
    "* determine the language of a report - <a href=\"https://pypi.python.org/pypi/langdetect/1.0.1\" target=\"_blank\"><font color = \"green\">(langdetect)</font> </a>\n",
    "\n",
    "    * Python port of a Google created Java library for language detection\n",
    "    * developed with labelled Wikipedia articles\n",
    "    * Naive Bayes ruleset, can detect 49 languages with 99% accuracy, minimum 10-12 words depending on the language\n",
    "    \n",
    "    \n",
    "   \n",
    "<a href=\"https://nbviewer.jupyter.org/github/iBrianCarter/pillreports_python/blob/master/3.Data%20Cleansing.ipynb\" target=\"_blank\"><font color = \"green\">Cleaning Code</font></a>\n"
   ]
  },
  {
   "cell_type": "code",
   "execution_count": 3,
   "metadata": {
    "collapsed": false,
    "slideshow": {
     "slide_type": "skip"
    }
   },
   "outputs": [],
   "source": [
    "import pandas as pd\n",
    "df=pd.read_csv(\"C:\\Users\\IBM_ADMIN\\Desktop\\Python_Ireland_Nov15\\Python_Ireland_Nov15\\slides\\images\\lang.csv\")"
   ]
  },
  {
   "cell_type": "code",
   "execution_count": 4,
   "metadata": {
    "collapsed": false,
    "slideshow": {
     "slide_type": "slide"
    }
   },
   "outputs": [
    {
     "data": {
      "text/html": [
       "<div>\n",
       "<table border=\"1\" class=\"dataframe\">\n",
       "  <thead>\n",
       "    <tr style=\"text-align: right;\">\n",
       "      <th></th>\n",
       "      <th>origin/language</th>\n",
       "      <th>en</th>\n",
       "      <th>nl</th>\n",
       "      <th>tr</th>\n",
       "      <th>pl</th>\n",
       "      <th>ru</th>\n",
       "      <th>af</th>\n",
       "      <th>no</th>\n",
       "      <th>Unknown</th>\n",
       "      <th>All</th>\n",
       "    </tr>\n",
       "  </thead>\n",
       "  <tbody>\n",
       "    <tr>\n",
       "      <th>0</th>\n",
       "      <td>All</td>\n",
       "      <td>2962</td>\n",
       "      <td>32</td>\n",
       "      <td>20</td>\n",
       "      <td>2</td>\n",
       "      <td>2</td>\n",
       "      <td>1</td>\n",
       "      <td>1</td>\n",
       "      <td>1981</td>\n",
       "      <td>5001</td>\n",
       "    </tr>\n",
       "    <tr>\n",
       "      <th>1</th>\n",
       "      <td>USA</td>\n",
       "      <td>1065</td>\n",
       "      <td>0</td>\n",
       "      <td>0</td>\n",
       "      <td>0</td>\n",
       "      <td>0</td>\n",
       "      <td>0</td>\n",
       "      <td>0</td>\n",
       "      <td>986</td>\n",
       "      <td>2051</td>\n",
       "    </tr>\n",
       "    <tr>\n",
       "      <th>2</th>\n",
       "      <td>Australia</td>\n",
       "      <td>591</td>\n",
       "      <td>0</td>\n",
       "      <td>0</td>\n",
       "      <td>0</td>\n",
       "      <td>0</td>\n",
       "      <td>0</td>\n",
       "      <td>0</td>\n",
       "      <td>378</td>\n",
       "      <td>969</td>\n",
       "    </tr>\n",
       "    <tr>\n",
       "      <th>3</th>\n",
       "      <td>Netherlands</td>\n",
       "      <td>208</td>\n",
       "      <td>29</td>\n",
       "      <td>0</td>\n",
       "      <td>0</td>\n",
       "      <td>0</td>\n",
       "      <td>0</td>\n",
       "      <td>0</td>\n",
       "      <td>127</td>\n",
       "      <td>364</td>\n",
       "    </tr>\n",
       "    <tr>\n",
       "      <th>4</th>\n",
       "      <td>England</td>\n",
       "      <td>223</td>\n",
       "      <td>0</td>\n",
       "      <td>0</td>\n",
       "      <td>0</td>\n",
       "      <td>0</td>\n",
       "      <td>0</td>\n",
       "      <td>0</td>\n",
       "      <td>101</td>\n",
       "      <td>324</td>\n",
       "    </tr>\n",
       "    <tr>\n",
       "      <th>5</th>\n",
       "      <td>Unknown</td>\n",
       "      <td>160</td>\n",
       "      <td>0</td>\n",
       "      <td>1</td>\n",
       "      <td>0</td>\n",
       "      <td>0</td>\n",
       "      <td>1</td>\n",
       "      <td>1</td>\n",
       "      <td>118</td>\n",
       "      <td>281</td>\n",
       "    </tr>\n",
       "    <tr>\n",
       "      <th>6</th>\n",
       "      <td>Ireland</td>\n",
       "      <td>122</td>\n",
       "      <td>0</td>\n",
       "      <td>0</td>\n",
       "      <td>0</td>\n",
       "      <td>0</td>\n",
       "      <td>0</td>\n",
       "      <td>0</td>\n",
       "      <td>95</td>\n",
       "      <td>217</td>\n",
       "    </tr>\n",
       "  </tbody>\n",
       "</table>\n",
       "</div>"
      ],
      "text/plain": [
       "  origin/language    en  nl  tr  pl  ru  af  no  Unknown   All\n",
       "0             All  2962  32  20   2   2   1   1     1981  5001\n",
       "1             USA  1065   0   0   0   0   0   0      986  2051\n",
       "2       Australia   591   0   0   0   0   0   0      378   969\n",
       "3     Netherlands   208  29   0   0   0   0   0      127   364\n",
       "4         England   223   0   0   0   0   0   0      101   324\n",
       "5         Unknown   160   0   1   0   0   1   1      118   281\n",
       "6         Ireland   122   0   0   0   0   0   0       95   217"
      ]
     },
     "execution_count": 4,
     "metadata": {},
     "output_type": "execute_result"
    }
   ],
   "source": [
    "df"
   ]
  },
  {
   "cell_type": "markdown",
   "metadata": {
    "slideshow": {
     "slide_type": "slide"
    }
   },
   "source": [
    "### Visualising and Exploring the Data\n",
    "\n",
    "* Using a mixture of <a href=\"http://matplotlib.org/\" target=\"_blank\"><font color = \"green\">(matplotlib)</font> </a> and  <a href=\"http://stanford.edu/~mwaskom/software/seaborn/\" target=\"_blank\"><font color = \"green\">(seaborn)</font> </a>\n",
    "\n",
    "\n",
    "* matplotlib is very old (very large), very slow (number of lines of code) and very large\n",
    "\n",
    "\n",
    "* seaborn is new, not as flexible but very quick - focus on statisical \n",
    "\n",
    "\n",
    "\n",
    "* Never ends always exploring when moving into the mining\n",
    "\n",
    "\n",
    "<a href=\"https://nbviewer.jupyter.org/github/iBrianCarter/pillreports_python/blob/master/4.Data%20Visualization.ipynb\" target=\"_blank\"><font color = \"green\">Visualisation Code</font></a>"
   ]
  },
  {
   "cell_type": "markdown",
   "metadata": {
    "slideshow": {
     "slide_type": "slide"
    }
   },
   "source": [
    "<img src=\"images/PR_Images_16a.png\",style=\"width: 800px;\"> \n",
    "<img src=\"images/PR_Images_16b.png\",style=\"width: 800px;\"> \n",
    "\n",
    "* 12 & 8 lines of code"
   ]
  },
  {
   "cell_type": "markdown",
   "metadata": {
    "slideshow": {
     "slide_type": "slide"
    }
   },
   "source": [
    "<img src=\"images/PR_Images_17a.png\",style=\"width: 800px;\"> \n",
    "\n",
    "16 lines of code"
   ]
  },
  {
   "cell_type": "markdown",
   "metadata": {
    "slideshow": {
     "slide_type": "slide"
    }
   },
   "source": [
    "### Classifcation \n",
    "\n",
    "- Build a simple Naive Bayes Model using <b>Description</b> free text field as input features and <b>Warning</b> as target label\n",
    "\n",
    "\n",
    "- Filter rows to those in English\n",
    "\n",
    "\n",
    "- Create different representation of the text (stopwords, stemming, ngrams) - <a href=\"http://www.nltk.org/\" target=\"_blank\"><font color = \"green\">(nltk)</font> </a>\n",
    "\n",
    "\n",
    "- Use different vector weighting (binary, TFIDF)\n",
    "\n",
    "\n",
    "- Apply other algorithms \n",
    "\n",
    "\n",
    "\n",
    "<a href=\"https://nbviewer.jupyter.org/github/iBrianCarter/pillreports_python/blob/master/5.Classification.ipynb\" target=\"_blank\"><font color = \"green\">Classification Code</font></a>\n"
   ]
  },
  {
   "cell_type": "code",
   "execution_count": 5,
   "metadata": {
    "collapsed": false,
    "slideshow": {
     "slide_type": "skip"
    }
   },
   "outputs": [],
   "source": [
    "classDF=pd.read_csv(\"C:\\Users\\IBM_ADMIN\\Desktop\\Python_Ireland_Nov15\\Python_Ireland_Nov15\\slides\\images\\class.csv\")\n",
    "resultsDF=pd.read_csv(\"C:\\Users\\IBM_ADMIN\\Desktop\\Python_Ireland_Nov15\\Python_Ireland_Nov15\\slides\\images\\score.csv\")"
   ]
  },
  {
   "cell_type": "code",
   "execution_count": 6,
   "metadata": {
    "collapsed": false,
    "slideshow": {
     "slide_type": "slide"
    }
   },
   "outputs": [
    {
     "data": {
      "text/html": [
       "<div>\n",
       "<table border=\"1\" class=\"dataframe\">\n",
       "  <thead>\n",
       "    <tr style=\"text-align: right;\">\n",
       "      <th></th>\n",
       "      <th>Warning</th>\n",
       "      <th>All Rows</th>\n",
       "      <th>All</th>\n",
       "      <th>English Rows</th>\n",
       "      <th>English</th>\n",
       "    </tr>\n",
       "  </thead>\n",
       "  <tbody>\n",
       "    <tr>\n",
       "      <th>0</th>\n",
       "      <td>Yes</td>\n",
       "      <td>3184</td>\n",
       "      <td>0.64</td>\n",
       "      <td>1888</td>\n",
       "      <td>0.65</td>\n",
       "    </tr>\n",
       "    <tr>\n",
       "      <th>1</th>\n",
       "      <td>No</td>\n",
       "      <td>1817</td>\n",
       "      <td>0.36</td>\n",
       "      <td>1008</td>\n",
       "      <td>0.35</td>\n",
       "    </tr>\n",
       "  </tbody>\n",
       "</table>\n",
       "</div>"
      ],
      "text/plain": [
       "  Warning  All Rows   All  English Rows  English\n",
       "0     Yes      3184  0.64          1888     0.65\n",
       "1      No      1817  0.36          1008     0.35"
      ]
     },
     "execution_count": 6,
     "metadata": {},
     "output_type": "execute_result"
    }
   ],
   "source": [
    "classDF"
   ]
  },
  {
   "cell_type": "code",
   "execution_count": 7,
   "metadata": {
    "collapsed": false,
    "slideshow": {
     "slide_type": "fragment"
    }
   },
   "outputs": [
    {
     "data": {
      "text/html": [
       "<div>\n",
       "<table border=\"1\" class=\"dataframe\">\n",
       "  <thead>\n",
       "    <tr style=\"text-align: right;\">\n",
       "      <th></th>\n",
       "      <th>Unnamed: 0</th>\n",
       "      <th># Features</th>\n",
       "      <th>1.Model</th>\n",
       "      <th>2.Vector</th>\n",
       "      <th>3.Train Acc.</th>\n",
       "      <th>4.Train std.</th>\n",
       "      <th>5.Test Score</th>\n",
       "    </tr>\n",
       "  </thead>\n",
       "  <tbody>\n",
       "    <tr>\n",
       "      <th>0</th>\n",
       "      <td>2</td>\n",
       "      <td>2785</td>\n",
       "      <td>NB</td>\n",
       "      <td>Freq-2</td>\n",
       "      <td>0.722089</td>\n",
       "      <td>0.014371</td>\n",
       "      <td>0.725862</td>\n",
       "    </tr>\n",
       "    <tr>\n",
       "      <th>1</th>\n",
       "      <td>23</td>\n",
       "      <td>16847</td>\n",
       "      <td>SGD</td>\n",
       "      <td>TFIDF-6</td>\n",
       "      <td>0.721546</td>\n",
       "      <td>0.023935</td>\n",
       "      <td>0.705172</td>\n",
       "    </tr>\n",
       "    <tr>\n",
       "      <th>2</th>\n",
       "      <td>0</td>\n",
       "      <td>2905</td>\n",
       "      <td>NB</td>\n",
       "      <td>Freq-1</td>\n",
       "      <td>0.720362</td>\n",
       "      <td>0.016211</td>\n",
       "      <td>0.732759</td>\n",
       "    </tr>\n",
       "    <tr>\n",
       "      <th>3</th>\n",
       "      <td>17</td>\n",
       "      <td>11819</td>\n",
       "      <td>SGD</td>\n",
       "      <td>TFIDF-3</td>\n",
       "      <td>0.714644</td>\n",
       "      <td>0.023743</td>\n",
       "      <td>0.700000</td>\n",
       "    </tr>\n",
       "    <tr>\n",
       "      <th>4</th>\n",
       "      <td>19</td>\n",
       "      <td>16713</td>\n",
       "      <td>SGD</td>\n",
       "      <td>TFIDF-4</td>\n",
       "      <td>0.711185</td>\n",
       "      <td>0.021285</td>\n",
       "      <td>0.706034</td>\n",
       "    </tr>\n",
       "    <tr>\n",
       "      <th>5</th>\n",
       "      <td>21</td>\n",
       "      <td>7417</td>\n",
       "      <td>SGD</td>\n",
       "      <td>TFIDF-5</td>\n",
       "      <td>0.704266</td>\n",
       "      <td>0.026029</td>\n",
       "      <td>0.693103</td>\n",
       "    </tr>\n",
       "    <tr>\n",
       "      <th>6</th>\n",
       "      <td>11</td>\n",
       "      <td>16847</td>\n",
       "      <td>SGD</td>\n",
       "      <td>Freq-6</td>\n",
       "      <td>0.700820</td>\n",
       "      <td>0.027605</td>\n",
       "      <td>0.700862</td>\n",
       "    </tr>\n",
       "    <tr>\n",
       "      <th>7</th>\n",
       "      <td>13</td>\n",
       "      <td>2905</td>\n",
       "      <td>SGD</td>\n",
       "      <td>TFIDF-1</td>\n",
       "      <td>0.696220</td>\n",
       "      <td>0.018576</td>\n",
       "      <td>0.681034</td>\n",
       "    </tr>\n",
       "    <tr>\n",
       "      <th>8</th>\n",
       "      <td>9</td>\n",
       "      <td>7417</td>\n",
       "      <td>SGD</td>\n",
       "      <td>Freq-5</td>\n",
       "      <td>0.696219</td>\n",
       "      <td>0.034046</td>\n",
       "      <td>0.668966</td>\n",
       "    </tr>\n",
       "    <tr>\n",
       "      <th>9</th>\n",
       "      <td>7</td>\n",
       "      <td>16713</td>\n",
       "      <td>SGD</td>\n",
       "      <td>Freq-4</td>\n",
       "      <td>0.695078</td>\n",
       "      <td>0.031401</td>\n",
       "      <td>0.668103</td>\n",
       "    </tr>\n",
       "  </tbody>\n",
       "</table>\n",
       "</div>"
      ],
      "text/plain": [
       "   Unnamed: 0  # Features 1.Model 2.Vector  3.Train Acc.  4.Train std.  \\\n",
       "0           2        2785      NB   Freq-2      0.722089      0.014371   \n",
       "1          23       16847     SGD  TFIDF-6      0.721546      0.023935   \n",
       "2           0        2905      NB   Freq-1      0.720362      0.016211   \n",
       "3          17       11819     SGD  TFIDF-3      0.714644      0.023743   \n",
       "4          19       16713     SGD  TFIDF-4      0.711185      0.021285   \n",
       "5          21        7417     SGD  TFIDF-5      0.704266      0.026029   \n",
       "6          11       16847     SGD   Freq-6      0.700820      0.027605   \n",
       "7          13        2905     SGD  TFIDF-1      0.696220      0.018576   \n",
       "8           9        7417     SGD   Freq-5      0.696219      0.034046   \n",
       "9           7       16713     SGD   Freq-4      0.695078      0.031401   \n",
       "\n",
       "   5.Test Score  \n",
       "0      0.725862  \n",
       "1      0.705172  \n",
       "2      0.732759  \n",
       "3      0.700000  \n",
       "4      0.706034  \n",
       "5      0.693103  \n",
       "6      0.700862  \n",
       "7      0.681034  \n",
       "8      0.668966  \n",
       "9      0.668103  "
      ]
     },
     "execution_count": 7,
     "metadata": {},
     "output_type": "execute_result"
    }
   ],
   "source": [
    "resultsDF"
   ]
  },
  {
   "cell_type": "markdown",
   "metadata": {
    "slideshow": {
     "slide_type": "slide"
    }
   },
   "source": [
    "### Understanding of classification boundary\n",
    "\n",
    "* Select top predictive features\n",
    "\n",
    "* Visualise \n",
    "\n",
    "<img src=\"images/img5_6a.png\",style=\"width: 800px;\"> "
   ]
  },
  {
   "cell_type": "markdown",
   "metadata": {
    "slideshow": {
     "slide_type": "slide"
    }
   },
   "source": [
    "<img src=\"images/PR_Images_25.png\",style=\"width: 800px;\"> "
   ]
  },
  {
   "cell_type": "markdown",
   "metadata": {
    "slideshow": {
     "slide_type": "slide"
    }
   },
   "source": [
    "# Clustering\n",
    "\n",
    "- Using the <b>User Report</b> free text field as input features\n",
    "\n",
    "\n",
    "- Create a visualisation of the points based on the features PCA representation.\n",
    "\n",
    "\n",
    "- Filter rows to those where the language is English and by Country\n",
    "\n",
    "\n",
    "- Using part of speech tagging, visualisation rich words in a word cloud\n",
    "\n",
    "\n",
    "<a href=\"https://nbviewer.jupyter.org/github/iBrianCarter/pillreports_python/blob/master/6.Clustering%20%26%20PCA.ipynb\" target=\"_blank\"><font color = \"green\">Clustering Code</font></a>\n",
    "\n"
   ]
  },
  {
   "cell_type": "markdown",
   "metadata": {
    "slideshow": {
     "slide_type": "slide"
    }
   },
   "source": [
    "### PCA\n",
    "\n",
    "* Create a binary occurence vector representation of stemmed words (Porter) \n",
    "\n",
    "\n",
    "* Normalise vector with tfidf\n",
    "\n",
    "\n",
    "* perform PCA and return 2 components \n",
    "\n",
    "\n",
    "* 3.5% of total variance explained \n",
    "\n",
    "\n",
    "* Use first two principal component to create scatter plot and overlay some columns with nominal categories"
   ]
  },
  {
   "cell_type": "markdown",
   "metadata": {
    "slideshow": {
     "slide_type": "slide"
    }
   },
   "source": [
    "<img src=\"images/PR_Images_27.png\",style=\"width: 1200px;\"> "
   ]
  },
  {
   "cell_type": "markdown",
   "metadata": {
    "slideshow": {
     "slide_type": "slide"
    }
   },
   "source": [
    "### Fun Word Cloud\n",
    "\n",
    "* Using POS tagger extract adjectives and nouns\n",
    "\n",
    "* Create a wordcloud of sized by word count and segmented by drug\n",
    "\n",
    "\n",
    "<img src=\"images/PR_Images_30.png\",style=\"width: 800px;\"> "
   ]
  },
  {
   "cell_type": "markdown",
   "metadata": {
    "slideshow": {
     "slide_type": "slide"
    }
   },
   "source": [
    "### Topic Modelling \n",
    "\n",
    "- Late Addition (not in the book)\n",
    "\n",
    "\n",
    "\n",
    "- Apply Topic Modelling to the data using  <a href=\"https://radimrehurek.com/gensim/\" target=\"_blank\"><font color = \"green\">(gensim)</font> </a>\n",
    "\n",
    "\n",
    "- Determine if there are latent topics in the **User Report** column\n",
    "\n",
    "\n",
    "\n",
    "- New port of **LDAvis** R package for interactive topic model visualization  <a href=\"https://pypi.python.org/pypi/pyLDAvis\" target=\"_blank\"><font color = \"green\">(pyLDAvis)</font> </a>\n",
    "\n",
    "\n",
    "- **JUMP TO NOTEBOOK**"
   ]
  },
  {
   "cell_type": "markdown",
   "metadata": {
    "collapsed": true,
    "slideshow": {
     "slide_type": "slide"
    }
   },
   "source": [
    "### <span style=\"color:green\"> Questions? Comments? Ridicule!!! </span>\n",
    "\n",
    "<img src=\"images/bookcover.jpg\",style=\"width: 400px;\"> "
   ]
  }
 ],
 "metadata": {
  "celltoolbar": "Slideshow",
  "kernelspec": {
   "display_name": "Python 2",
   "language": "python",
   "name": "python2"
  },
  "language_info": {
   "codemirror_mode": {
    "name": "ipython",
    "version": 2
   },
   "file_extension": ".py",
   "mimetype": "text/x-python",
   "name": "python",
   "nbconvert_exporter": "python",
   "pygments_lexer": "ipython2",
   "version": "2.7.10"
  }
 },
 "nbformat": 4,
 "nbformat_minor": 0
}
